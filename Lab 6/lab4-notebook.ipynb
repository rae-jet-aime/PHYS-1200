{
 "cells": [
  {
   "cell_type": "markdown",
   "id": "2b9ffdb4-2b03-4e3b-b0c5-4392df8c0ad9",
   "metadata": {},
   "source": [
    "# Welcome to PHYS 1200: Computational Lab!\n",
    "So far, we have had 5 labs. This Jupyter notebook will go over some of the main concepts we have learned in class.\n",
    "* Lab 0: Introduction and Installation\n",
    "* Lab 1: Console and Command Line\n",
    "* Lab 2: Git and GitHub\n",
    "* Lab 3: Git and Jupyter\n",
    "* Lab 4: Data Types and Dictionaries"
   ]
  },
  {
   "cell_type": "markdown",
   "id": "1a58c120-e02b-4aec-9fbd-b2ae462dbf92",
   "metadata": {},
   "source": [
    "## Lab 0: Introduction and Installation\n",
    "Today, we learned about our professor and received a beginner's introduction to Python. We then installed Miniconda using various methods. As a Mac user, I worked through the terminal and accidentally installed all of Anaconda at some point."
   ]
  },
  {
   "cell_type": "markdown",
   "id": "49c1d3b7-24a5-4c5a-9d3d-e5584c9fb0e2",
   "metadata": {},
   "source": [
    "## Lab 1: Console and Command Line\n",
    "Today, I typed and ran my first code during class in Spyder. Before, I had only worked in BlueJ, which did not feel like a real IDE that actual software developers use day-to-day. It was interesting to run things in the console. The example code we ran was:"
   ]
  },
  {
   "cell_type": "code",
   "execution_count": 8,
   "id": "f535556c-bdac-41ce-b6b5-9465c69f2d2a",
   "metadata": {},
   "outputs": [
    {
     "name": "stdout",
     "output_type": "stream",
     "text": [
      "Hello! Please enter your name.\n"
     ]
    },
    {
     "name": "stdin",
     "output_type": "stream",
     "text": [
      " Rae\n"
     ]
    },
    {
     "name": "stdout",
     "output_type": "stream",
     "text": [
      "Hi there, Rae!\n"
     ]
    }
   ],
   "source": [
    "print(\"Hello! Please enter your name.\")\n",
    "name = input()\n",
    "print(\"Hi there, \" + name + \"!\")"
   ]
  },
  {
   "cell_type": "markdown",
   "id": "99dd1122-7bc5-4a2c-ae90-4ac5f470a798",
   "metadata": {},
   "source": [
    "## Lab 2: Git and GitHub\n",
    "Today, we learned basic git commands. It is rather unintuitive to me, but I have gotten better at understanding what a branch is, what it means to push to or pull from a repository, and how to move around directories to find what I want. Some commands include:"
   ]
  },
  {
   "cell_type": "raw",
   "id": "0a5f646a-8244-43fe-9ee8-de02e8ccc681",
   "metadata": {},
   "source": [
    "git status\n",
    "git add .\n",
    "git commit -m \"Optional comment. Describe what you are doing here.\"\n",
    "git push"
   ]
  },
  {
   "cell_type": "markdown",
   "id": "924b16ae-fd3d-471e-9ac0-e2e092429f0b",
   "metadata": {},
   "source": [
    "## Lab 3: Git and Jupyter\n",
    "Today, we learned about how to set up and use Jupyter, the application I am using to create this file. I have seen Jupyter before, in a DeepLearning AI course I took the summer directly before attending LMU. I could not find a way to make this lab title alliterate."
   ]
  },
  {
   "cell_type": "markdown",
   "id": "2a111e20-9181-4938-a15f-d8bec4434ea6",
   "metadata": {},
   "source": [
    "## Lab 4: Data Types and Dictionaries\n",
    "Today, we talked more about different data types. Professor Alavi focused on dictionaries, which is convenient for me because I did not yet fully understand the concept. This has helped me really get it. Since one of our exercises was about vector components, I am going to write the equation for finding the magnitude of a vector with 3 components (exists in the x, y, and z-directions):"
   ]
  },
  {
   "cell_type": "markdown",
   "id": "d0a1c02e-f0b0-4c3d-9d24-c0c5a1e0df4e",
   "metadata": {},
   "source": [
    "Let vector $r(t)$ be $r(t) = <x(t), y(t), z(t)>$ .  \n",
    "To find the magnitude of $r(t)$, calculate $ \\sqrt{x(t)^2 + y(t)^2 + z(t)^2}$ ."
   ]
  },
  {
   "cell_type": "code",
   "execution_count": null,
   "id": "fcb977b7-7833-4eb4-8d80-8fb8b0cdd776",
   "metadata": {},
   "outputs": [],
   "source": []
  }
 ],
 "metadata": {
  "kernelspec": {
   "display_name": "Python 3 (ipykernel)",
   "language": "python",
   "name": "python3"
  },
  "language_info": {
   "codemirror_mode": {
    "name": "ipython",
    "version": 3
   },
   "file_extension": ".py",
   "mimetype": "text/x-python",
   "name": "python",
   "nbconvert_exporter": "python",
   "pygments_lexer": "ipython3",
   "version": "3.12.8"
  }
 },
 "nbformat": 4,
 "nbformat_minor": 5
}
